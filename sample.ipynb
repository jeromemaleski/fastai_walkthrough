{
 "cells": [
  {
   "cell_type": "markdown",
   "id": "bc885263-1f93-4679-b1eb-e77ef886d6da",
   "metadata": {
    "tags": []
   },
   "source": [
    "## sample notebook"
   ]
  },
  {
   "cell_type": "markdown",
   "id": "70d3d6da-0a23-4b00-aaa7-43839056e97a",
   "metadata": {
    "tags": []
   },
   "source": [
    "Here is how i calculate `1+1`:"
   ]
  },
  {
   "cell_type": "code",
   "execution_count": 1,
   "id": "63683af5-49c5-4d0a-ac7d-fee635105c92",
   "metadata": {
    "tags": []
   },
   "outputs": [
    {
     "data": {
      "text/plain": [
       "2"
      ]
     },
     "execution_count": 1,
     "metadata": {},
     "output_type": "execute_result"
    }
   ],
   "source": [
    "1+1"
   ]
  },
  {
   "cell_type": "code",
   "execution_count": 2,
   "id": "db1056f0-b273-44bf-827e-c7b07a34a5e2",
   "metadata": {
    "tags": []
   },
   "outputs": [],
   "source": [
    "from numpy import *"
   ]
  },
  {
   "cell_type": "markdown",
   "id": "38ed95c7-017b-4ce7-9c89-6e1ac575d91a",
   "metadata": {},
   "source": [
    "here is how i calculate `sin`:"
   ]
  },
  {
   "cell_type": "code",
   "execution_count": null,
   "id": "a7a72fee-95c5-477a-b248-f115efc1525b",
   "metadata": {},
   "outputs": [],
   "source": [
    "a =array([1.0,pi/2]"
   ]
  }
 ],
 "metadata": {
  "kernelspec": {
   "display_name": "Python 3 (ipykernel)",
   "language": "python",
   "name": "python3"
  },
  "language_info": {
   "codemirror_mode": {
    "name": "ipython",
    "version": 3
   },
   "file_extension": ".py",
   "mimetype": "text/x-python",
   "name": "python",
   "nbconvert_exporter": "python",
   "pygments_lexer": "ipython3",
   "version": "3.10.9"
  }
 },
 "nbformat": 4,
 "nbformat_minor": 5
}
